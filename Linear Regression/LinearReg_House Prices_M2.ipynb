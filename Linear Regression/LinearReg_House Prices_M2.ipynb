{
 "cells": [
  {
   "cell_type": "markdown",
   "id": "8e170a7c",
   "metadata": {},
   "source": [
    "#### Import Libraries for Plot & Modelling"
   ]
  },
  {
   "cell_type": "code",
   "execution_count": 178,
   "id": "422f653e",
   "metadata": {},
   "outputs": [],
   "source": [
    "import pandas as pd\n",
    "import matplotlib.pyplot as plt\n",
    "from sklearn import linear_model"
   ]
  },
  {
   "cell_type": "markdown",
   "id": "d4f7349d",
   "metadata": {},
   "source": [
    "##### Read Data File & check for size & data type"
   ]
  },
  {
   "cell_type": "code",
   "execution_count": 179,
   "id": "f472bd74",
   "metadata": {},
   "outputs": [],
   "source": [
    "df = pd.read_csv('House Price India.csv')"
   ]
  },
  {
   "cell_type": "code",
   "execution_count": 180,
   "id": "db94cb76",
   "metadata": {},
   "outputs": [
    {
     "data": {
      "text/plain": [
       "(14619, 23)"
      ]
     },
     "execution_count": 180,
     "metadata": {},
     "output_type": "execute_result"
    }
   ],
   "source": [
    "df.shape"
   ]
  },
  {
   "cell_type": "code",
   "execution_count": 181,
   "id": "eeda6cf8",
   "metadata": {},
   "outputs": [
    {
     "data": {
      "text/plain": [
       "id                                         int64\n",
       "Date                                       int64\n",
       "number of bedrooms                         int64\n",
       "number of bathrooms                      float64\n",
       "living area                                int64\n",
       "lot area                                   int64\n",
       "number of floors                         float64\n",
       "waterfront present                         int64\n",
       "number of views                            int64\n",
       "condition of the house                     int64\n",
       "grade of the house                         int64\n",
       "Area of the house(excluding basement)      int64\n",
       "Area of the basement                       int64\n",
       "Built Year                                 int64\n",
       "Renovation Year                            int64\n",
       "Postal Code                                int64\n",
       "Lattitude                                float64\n",
       "Longitude                                float64\n",
       "living_area_renov                          int64\n",
       "lot_area_renov                             int64\n",
       "Number of schools nearby                   int64\n",
       "Distance from the airport                  int64\n",
       "Price                                      int64\n",
       "dtype: object"
      ]
     },
     "execution_count": 181,
     "metadata": {},
     "output_type": "execute_result"
    }
   ],
   "source": [
    "df.dtypes"
   ]
  },
  {
   "cell_type": "code",
   "execution_count": 182,
   "id": "0c3910e5",
   "metadata": {},
   "outputs": [
    {
     "data": {
      "text/html": [
       "<div>\n",
       "<style scoped>\n",
       "    .dataframe tbody tr th:only-of-type {\n",
       "        vertical-align: middle;\n",
       "    }\n",
       "\n",
       "    .dataframe tbody tr th {\n",
       "        vertical-align: top;\n",
       "    }\n",
       "\n",
       "    .dataframe thead th {\n",
       "        text-align: right;\n",
       "    }\n",
       "</style>\n",
       "<table border=\"1\" class=\"dataframe\">\n",
       "  <thead>\n",
       "    <tr style=\"text-align: right;\">\n",
       "      <th></th>\n",
       "      <th>id</th>\n",
       "      <th>Date</th>\n",
       "      <th>number of bedrooms</th>\n",
       "      <th>number of bathrooms</th>\n",
       "      <th>living area</th>\n",
       "      <th>lot area</th>\n",
       "      <th>number of floors</th>\n",
       "      <th>waterfront present</th>\n",
       "      <th>number of views</th>\n",
       "      <th>condition of the house</th>\n",
       "      <th>...</th>\n",
       "      <th>Built Year</th>\n",
       "      <th>Renovation Year</th>\n",
       "      <th>Postal Code</th>\n",
       "      <th>Lattitude</th>\n",
       "      <th>Longitude</th>\n",
       "      <th>living_area_renov</th>\n",
       "      <th>lot_area_renov</th>\n",
       "      <th>Number of schools nearby</th>\n",
       "      <th>Distance from the airport</th>\n",
       "      <th>Price</th>\n",
       "    </tr>\n",
       "  </thead>\n",
       "  <tbody>\n",
       "    <tr>\n",
       "      <th>0</th>\n",
       "      <td>6762810635</td>\n",
       "      <td>42491</td>\n",
       "      <td>4</td>\n",
       "      <td>2.50</td>\n",
       "      <td>2920</td>\n",
       "      <td>4000</td>\n",
       "      <td>1.5</td>\n",
       "      <td>0</td>\n",
       "      <td>0</td>\n",
       "      <td>5</td>\n",
       "      <td>...</td>\n",
       "      <td>1909</td>\n",
       "      <td>0</td>\n",
       "      <td>122004</td>\n",
       "      <td>52.8878</td>\n",
       "      <td>-114.470</td>\n",
       "      <td>2470</td>\n",
       "      <td>4000</td>\n",
       "      <td>2</td>\n",
       "      <td>51</td>\n",
       "      <td>1400000</td>\n",
       "    </tr>\n",
       "    <tr>\n",
       "      <th>1</th>\n",
       "      <td>6762810998</td>\n",
       "      <td>42491</td>\n",
       "      <td>5</td>\n",
       "      <td>2.75</td>\n",
       "      <td>2910</td>\n",
       "      <td>9480</td>\n",
       "      <td>1.5</td>\n",
       "      <td>0</td>\n",
       "      <td>0</td>\n",
       "      <td>3</td>\n",
       "      <td>...</td>\n",
       "      <td>1939</td>\n",
       "      <td>0</td>\n",
       "      <td>122004</td>\n",
       "      <td>52.8852</td>\n",
       "      <td>-114.468</td>\n",
       "      <td>2940</td>\n",
       "      <td>6600</td>\n",
       "      <td>1</td>\n",
       "      <td>53</td>\n",
       "      <td>1200000</td>\n",
       "    </tr>\n",
       "    <tr>\n",
       "      <th>2</th>\n",
       "      <td>6762812605</td>\n",
       "      <td>42491</td>\n",
       "      <td>4</td>\n",
       "      <td>2.50</td>\n",
       "      <td>3310</td>\n",
       "      <td>42998</td>\n",
       "      <td>2.0</td>\n",
       "      <td>0</td>\n",
       "      <td>0</td>\n",
       "      <td>3</td>\n",
       "      <td>...</td>\n",
       "      <td>2001</td>\n",
       "      <td>0</td>\n",
       "      <td>122005</td>\n",
       "      <td>52.9532</td>\n",
       "      <td>-114.321</td>\n",
       "      <td>3350</td>\n",
       "      <td>42847</td>\n",
       "      <td>3</td>\n",
       "      <td>76</td>\n",
       "      <td>838000</td>\n",
       "    </tr>\n",
       "    <tr>\n",
       "      <th>3</th>\n",
       "      <td>6762812919</td>\n",
       "      <td>42491</td>\n",
       "      <td>3</td>\n",
       "      <td>2.00</td>\n",
       "      <td>2710</td>\n",
       "      <td>4500</td>\n",
       "      <td>1.5</td>\n",
       "      <td>0</td>\n",
       "      <td>0</td>\n",
       "      <td>4</td>\n",
       "      <td>...</td>\n",
       "      <td>1929</td>\n",
       "      <td>0</td>\n",
       "      <td>122006</td>\n",
       "      <td>52.9047</td>\n",
       "      <td>-114.485</td>\n",
       "      <td>2060</td>\n",
       "      <td>4500</td>\n",
       "      <td>1</td>\n",
       "      <td>51</td>\n",
       "      <td>805000</td>\n",
       "    </tr>\n",
       "    <tr>\n",
       "      <th>4</th>\n",
       "      <td>6762813105</td>\n",
       "      <td>42491</td>\n",
       "      <td>3</td>\n",
       "      <td>2.50</td>\n",
       "      <td>2600</td>\n",
       "      <td>4750</td>\n",
       "      <td>1.0</td>\n",
       "      <td>0</td>\n",
       "      <td>0</td>\n",
       "      <td>4</td>\n",
       "      <td>...</td>\n",
       "      <td>1951</td>\n",
       "      <td>0</td>\n",
       "      <td>122007</td>\n",
       "      <td>52.9133</td>\n",
       "      <td>-114.590</td>\n",
       "      <td>2380</td>\n",
       "      <td>4750</td>\n",
       "      <td>1</td>\n",
       "      <td>67</td>\n",
       "      <td>790000</td>\n",
       "    </tr>\n",
       "  </tbody>\n",
       "</table>\n",
       "<p>5 rows × 23 columns</p>\n",
       "</div>"
      ],
      "text/plain": [
       "           id   Date  number of bedrooms  number of bathrooms  living area  \\\n",
       "0  6762810635  42491                   4                 2.50         2920   \n",
       "1  6762810998  42491                   5                 2.75         2910   \n",
       "2  6762812605  42491                   4                 2.50         3310   \n",
       "3  6762812919  42491                   3                 2.00         2710   \n",
       "4  6762813105  42491                   3                 2.50         2600   \n",
       "\n",
       "   lot area  number of floors  waterfront present  number of views  \\\n",
       "0      4000               1.5                   0                0   \n",
       "1      9480               1.5                   0                0   \n",
       "2     42998               2.0                   0                0   \n",
       "3      4500               1.5                   0                0   \n",
       "4      4750               1.0                   0                0   \n",
       "\n",
       "   condition of the house  ...  Built Year  Renovation Year  Postal Code  \\\n",
       "0                       5  ...        1909                0       122004   \n",
       "1                       3  ...        1939                0       122004   \n",
       "2                       3  ...        2001                0       122005   \n",
       "3                       4  ...        1929                0       122006   \n",
       "4                       4  ...        1951                0       122007   \n",
       "\n",
       "   Lattitude  Longitude  living_area_renov  lot_area_renov  \\\n",
       "0    52.8878   -114.470               2470            4000   \n",
       "1    52.8852   -114.468               2940            6600   \n",
       "2    52.9532   -114.321               3350           42847   \n",
       "3    52.9047   -114.485               2060            4500   \n",
       "4    52.9133   -114.590               2380            4750   \n",
       "\n",
       "   Number of schools nearby  Distance from the airport    Price  \n",
       "0                         2                         51  1400000  \n",
       "1                         1                         53  1200000  \n",
       "2                         3                         76   838000  \n",
       "3                         1                         51   805000  \n",
       "4                         1                         67   790000  \n",
       "\n",
       "[5 rows x 23 columns]"
      ]
     },
     "execution_count": 182,
     "metadata": {},
     "output_type": "execute_result"
    }
   ],
   "source": [
    "df.head()"
   ]
  },
  {
   "cell_type": "markdown",
   "id": "a4a8c980",
   "metadata": {},
   "source": [
    "#### Data Preparing for Modelling\n",
    "Independent variable - Number of bedrooms, living area, Old (2024 - built year)\n",
    "Dependent variable - Price\n",
    "\n",
    "Note1: Presence of other variables in data makes it difficult to predict price with only 4 independent variable. \n",
    "So to reduce the varaiations, some variables are constrinted to a range. The following variables range is fixed \n",
    "\n",
    "* lot area - range is huge (constrained fr <= 10,000 sq ft) - found by iteration\n",
    "* waterfront present - 0,1 - only not present (0) is considered\n",
    "* Renovation year - 0,1 - only not renovated (0) is considered\n",
    "\n",
    "Note 2:\n",
    "Among indepnedent variables uner consideration number of bedroom and Old is constrained for better result and reduce the effect of outlier\n",
    "\n",
    "* Number of bedrooms - 2 to 5 bedrooms (range is 1 to 33)\n",
    "* Old - house of age withput renovation <= 80 is only considered\n",
    "* number of bathrooms - restricted to  3 bathrooms\n",
    "                   \n",
    "\n",
    "Note3:\n",
    "* ID is unique hence assumed each corresponds to a unique house entry\n",
    "* living_area_renov & lot_area_renov are not considered as column description not given clearly\n",
    "\n",
    "Note4: Unconstrained Variables\n",
    "* number of schools nearby - 1,2,3\n",
    "* postal code - ranges between 122004 and 122066 which mostly will corresponds to only one city (Gurugaon in real time)\n",
    "* Distance from the airport - not cosidered as major influencing variable\n",
    "* Lattitude, Longitude - connected with postal code hence effect not considered\n",
    "* number of views  \n",
    "* condition of the house                    \n",
    "* grade of the house                         \n",
    "* Area of the house(excluding basement)      \n",
    "* Area of the basement \n",
    "\n"
   ]
  },
  {
   "cell_type": "code",
   "execution_count": 183,
   "id": "53b9a5d1",
   "metadata": {},
   "outputs": [
    {
     "data": {
      "text/plain": [
       "6762810635    1\n",
       "6762812541    1\n",
       "6762813736    1\n",
       "6762813785    1\n",
       "6762814009    1\n",
       "             ..\n",
       "6762812410    1\n",
       "6762812471    1\n",
       "6762812563    1\n",
       "6762812717    1\n",
       "6762831463    1\n",
       "Name: id, Length: 14619, dtype: int64"
      ]
     },
     "execution_count": 183,
     "metadata": {},
     "output_type": "execute_result"
    }
   ],
   "source": [
    "df['id'].value_counts(ascending = False)"
   ]
  },
  {
   "cell_type": "code",
   "execution_count": 184,
   "id": "c858a1f0",
   "metadata": {},
   "outputs": [
    {
     "data": {
      "text/plain": [
       "2.50    3677\n",
       "1.00    2509\n",
       "1.75    2062\n",
       "2.25    1378\n",
       "2.00    1323\n",
       "1.50     968\n",
       "2.75     831\n",
       "3.00     510\n",
       "3.50     504\n",
       "3.25     424\n",
       "3.75     101\n",
       "4.00      81\n",
       "4.50      72\n",
       "4.25      56\n",
       "0.75      47\n",
       "4.75      17\n",
       "5.00      15\n",
       "5.25      12\n",
       "5.50       8\n",
       "1.25       7\n",
       "0.50       3\n",
       "6.00       3\n",
       "8.00       2\n",
       "5.75       2\n",
       "6.25       2\n",
       "6.75       2\n",
       "6.50       1\n",
       "7.50       1\n",
       "7.75       1\n",
       "Name: number of bathrooms, dtype: int64"
      ]
     },
     "execution_count": 184,
     "metadata": {},
     "output_type": "execute_result"
    }
   ],
   "source": [
    "df['number of bathrooms'].value_counts()"
   ]
  },
  {
   "cell_type": "code",
   "execution_count": 185,
   "id": "fb6a0873",
   "metadata": {},
   "outputs": [
    {
     "data": {
      "text/plain": [
       "3    4973\n",
       "2    4852\n",
       "1    4794\n",
       "Name: Number of schools nearby, dtype: int64"
      ]
     },
     "execution_count": 185,
     "metadata": {},
     "output_type": "execute_result"
    }
   ],
   "source": [
    "df['Number of schools nearby'].value_counts()"
   ]
  },
  {
   "cell_type": "code",
   "execution_count": 186,
   "id": "af3fb5ee",
   "metadata": {},
   "outputs": [
    {
     "data": {
      "text/plain": [
       "array([122004, 122005, 122006, 122007, 122008, 122009, 122010, 122011,\n",
       "       122012, 122013, 122014, 122015, 122016, 122017, 122018, 122019,\n",
       "       122020, 122021, 122022, 122023, 122024, 122025, 122026, 122027,\n",
       "       122028, 122029, 122030, 122031, 122032, 122033, 122034, 122035,\n",
       "       122036, 122037, 122038, 122039, 122040, 122041, 122042, 122043,\n",
       "       122044, 122045, 122046, 122047, 122048, 122049, 122003, 122050,\n",
       "       122051, 122052, 122053, 122054, 122055, 122056, 122057, 122058,\n",
       "       122059, 122060, 122061, 122062, 122063, 122064, 122065, 122066,\n",
       "       122067, 122068, 122069, 122070, 122071, 122072], dtype=int64)"
      ]
     },
     "execution_count": 186,
     "metadata": {},
     "output_type": "execute_result"
    }
   ],
   "source": [
    "df['Postal Code'].unique()"
   ]
  },
  {
   "cell_type": "code",
   "execution_count": 187,
   "id": "4e636c42",
   "metadata": {},
   "outputs": [
    {
     "data": {
      "text/plain": [
       "3     6612\n",
       "4     4724\n",
       "2     1844\n",
       "5     1078\n",
       "6      176\n",
       "1      136\n",
       "7       30\n",
       "8       11\n",
       "9        3\n",
       "10       3\n",
       "33       1\n",
       "11       1\n",
       "Name: number of bedrooms, dtype: int64"
      ]
     },
     "execution_count": 187,
     "metadata": {},
     "output_type": "execute_result"
    }
   ],
   "source": [
    "df['number of bedrooms'].value_counts(ascending = False)"
   ]
  },
  {
   "cell_type": "code",
   "execution_count": 188,
   "id": "9388d9e7",
   "metadata": {},
   "outputs": [
    {
     "data": {
      "text/plain": [
       "0    14507\n",
       "1      112\n",
       "Name: waterfront present, dtype: int64"
      ]
     },
     "execution_count": 188,
     "metadata": {},
     "output_type": "execute_result"
    }
   ],
   "source": [
    "df['waterfront present'].value_counts()"
   ]
  },
  {
   "cell_type": "code",
   "execution_count": 189,
   "id": "0530ba50",
   "metadata": {},
   "outputs": [],
   "source": [
    "df0 = df[(df['lot area'] <= 10000)]"
   ]
  },
  {
   "cell_type": "code",
   "execution_count": 190,
   "id": "f1bdddfe",
   "metadata": {},
   "outputs": [
    {
     "data": {
      "text/plain": [
       "(10416, 23)"
      ]
     },
     "execution_count": 190,
     "metadata": {},
     "output_type": "execute_result"
    }
   ],
   "source": [
    "df0.shape"
   ]
  },
  {
   "cell_type": "code",
   "execution_count": 191,
   "id": "9b188be4",
   "metadata": {},
   "outputs": [
    {
     "data": {
      "text/html": [
       "<div>\n",
       "<style scoped>\n",
       "    .dataframe tbody tr th:only-of-type {\n",
       "        vertical-align: middle;\n",
       "    }\n",
       "\n",
       "    .dataframe tbody tr th {\n",
       "        vertical-align: top;\n",
       "    }\n",
       "\n",
       "    .dataframe thead th {\n",
       "        text-align: right;\n",
       "    }\n",
       "</style>\n",
       "<table border=\"1\" class=\"dataframe\">\n",
       "  <thead>\n",
       "    <tr style=\"text-align: right;\">\n",
       "      <th></th>\n",
       "      <th>id</th>\n",
       "      <th>Date</th>\n",
       "      <th>number of bedrooms</th>\n",
       "      <th>number of bathrooms</th>\n",
       "      <th>living area</th>\n",
       "      <th>lot area</th>\n",
       "      <th>number of floors</th>\n",
       "      <th>waterfront present</th>\n",
       "      <th>number of views</th>\n",
       "      <th>condition of the house</th>\n",
       "      <th>...</th>\n",
       "      <th>Built Year</th>\n",
       "      <th>Renovation Year</th>\n",
       "      <th>Postal Code</th>\n",
       "      <th>Lattitude</th>\n",
       "      <th>Longitude</th>\n",
       "      <th>living_area_renov</th>\n",
       "      <th>lot_area_renov</th>\n",
       "      <th>Number of schools nearby</th>\n",
       "      <th>Distance from the airport</th>\n",
       "      <th>Price</th>\n",
       "    </tr>\n",
       "  </thead>\n",
       "  <tbody>\n",
       "    <tr>\n",
       "      <th>0</th>\n",
       "      <td>6762810635</td>\n",
       "      <td>42491</td>\n",
       "      <td>4</td>\n",
       "      <td>2.50</td>\n",
       "      <td>2920</td>\n",
       "      <td>4000</td>\n",
       "      <td>1.5</td>\n",
       "      <td>0</td>\n",
       "      <td>0</td>\n",
       "      <td>5</td>\n",
       "      <td>...</td>\n",
       "      <td>1909</td>\n",
       "      <td>0</td>\n",
       "      <td>122004</td>\n",
       "      <td>52.8878</td>\n",
       "      <td>-114.470</td>\n",
       "      <td>2470</td>\n",
       "      <td>4000</td>\n",
       "      <td>2</td>\n",
       "      <td>51</td>\n",
       "      <td>1400000</td>\n",
       "    </tr>\n",
       "    <tr>\n",
       "      <th>1</th>\n",
       "      <td>6762810998</td>\n",
       "      <td>42491</td>\n",
       "      <td>5</td>\n",
       "      <td>2.75</td>\n",
       "      <td>2910</td>\n",
       "      <td>9480</td>\n",
       "      <td>1.5</td>\n",
       "      <td>0</td>\n",
       "      <td>0</td>\n",
       "      <td>3</td>\n",
       "      <td>...</td>\n",
       "      <td>1939</td>\n",
       "      <td>0</td>\n",
       "      <td>122004</td>\n",
       "      <td>52.8852</td>\n",
       "      <td>-114.468</td>\n",
       "      <td>2940</td>\n",
       "      <td>6600</td>\n",
       "      <td>1</td>\n",
       "      <td>53</td>\n",
       "      <td>1200000</td>\n",
       "    </tr>\n",
       "    <tr>\n",
       "      <th>3</th>\n",
       "      <td>6762812919</td>\n",
       "      <td>42491</td>\n",
       "      <td>3</td>\n",
       "      <td>2.00</td>\n",
       "      <td>2710</td>\n",
       "      <td>4500</td>\n",
       "      <td>1.5</td>\n",
       "      <td>0</td>\n",
       "      <td>0</td>\n",
       "      <td>4</td>\n",
       "      <td>...</td>\n",
       "      <td>1929</td>\n",
       "      <td>0</td>\n",
       "      <td>122006</td>\n",
       "      <td>52.9047</td>\n",
       "      <td>-114.485</td>\n",
       "      <td>2060</td>\n",
       "      <td>4500</td>\n",
       "      <td>1</td>\n",
       "      <td>51</td>\n",
       "      <td>805000</td>\n",
       "    </tr>\n",
       "    <tr>\n",
       "      <th>4</th>\n",
       "      <td>6762813105</td>\n",
       "      <td>42491</td>\n",
       "      <td>3</td>\n",
       "      <td>2.50</td>\n",
       "      <td>2600</td>\n",
       "      <td>4750</td>\n",
       "      <td>1.0</td>\n",
       "      <td>0</td>\n",
       "      <td>0</td>\n",
       "      <td>4</td>\n",
       "      <td>...</td>\n",
       "      <td>1951</td>\n",
       "      <td>0</td>\n",
       "      <td>122007</td>\n",
       "      <td>52.9133</td>\n",
       "      <td>-114.590</td>\n",
       "      <td>2380</td>\n",
       "      <td>4750</td>\n",
       "      <td>1</td>\n",
       "      <td>67</td>\n",
       "      <td>790000</td>\n",
       "    </tr>\n",
       "    <tr>\n",
       "      <th>7</th>\n",
       "      <td>6762813600</td>\n",
       "      <td>42491</td>\n",
       "      <td>3</td>\n",
       "      <td>2.50</td>\n",
       "      <td>2390</td>\n",
       "      <td>6550</td>\n",
       "      <td>1.0</td>\n",
       "      <td>0</td>\n",
       "      <td>2</td>\n",
       "      <td>4</td>\n",
       "      <td>...</td>\n",
       "      <td>1955</td>\n",
       "      <td>0</td>\n",
       "      <td>122009</td>\n",
       "      <td>52.8014</td>\n",
       "      <td>-114.598</td>\n",
       "      <td>2010</td>\n",
       "      <td>6550</td>\n",
       "      <td>1</td>\n",
       "      <td>73</td>\n",
       "      <td>750000</td>\n",
       "    </tr>\n",
       "  </tbody>\n",
       "</table>\n",
       "<p>5 rows × 23 columns</p>\n",
       "</div>"
      ],
      "text/plain": [
       "           id   Date  number of bedrooms  number of bathrooms  living area  \\\n",
       "0  6762810635  42491                   4                 2.50         2920   \n",
       "1  6762810998  42491                   5                 2.75         2910   \n",
       "3  6762812919  42491                   3                 2.00         2710   \n",
       "4  6762813105  42491                   3                 2.50         2600   \n",
       "7  6762813600  42491                   3                 2.50         2390   \n",
       "\n",
       "   lot area  number of floors  waterfront present  number of views  \\\n",
       "0      4000               1.5                   0                0   \n",
       "1      9480               1.5                   0                0   \n",
       "3      4500               1.5                   0                0   \n",
       "4      4750               1.0                   0                0   \n",
       "7      6550               1.0                   0                2   \n",
       "\n",
       "   condition of the house  ...  Built Year  Renovation Year  Postal Code  \\\n",
       "0                       5  ...        1909                0       122004   \n",
       "1                       3  ...        1939                0       122004   \n",
       "3                       4  ...        1929                0       122006   \n",
       "4                       4  ...        1951                0       122007   \n",
       "7                       4  ...        1955                0       122009   \n",
       "\n",
       "   Lattitude  Longitude  living_area_renov  lot_area_renov  \\\n",
       "0    52.8878   -114.470               2470            4000   \n",
       "1    52.8852   -114.468               2940            6600   \n",
       "3    52.9047   -114.485               2060            4500   \n",
       "4    52.9133   -114.590               2380            4750   \n",
       "7    52.8014   -114.598               2010            6550   \n",
       "\n",
       "   Number of schools nearby  Distance from the airport    Price  \n",
       "0                         2                         51  1400000  \n",
       "1                         1                         53  1200000  \n",
       "3                         1                         51   805000  \n",
       "4                         1                         67   790000  \n",
       "7                         1                         73   750000  \n",
       "\n",
       "[5 rows x 23 columns]"
      ]
     },
     "execution_count": 191,
     "metadata": {},
     "output_type": "execute_result"
    }
   ],
   "source": [
    "df0.head()"
   ]
  },
  {
   "cell_type": "code",
   "execution_count": 192,
   "id": "ce55e2a8",
   "metadata": {},
   "outputs": [
    {
     "data": {
      "text/plain": [
       "<matplotlib.collections.PathCollection at 0x26b2bd3bcd0>"
      ]
     },
     "execution_count": 192,
     "metadata": {},
     "output_type": "execute_result"
    },
    {
     "data": {
      "image/png": "[encoded data removed]",
      "text/plain": [
       "<Figure size 640x480 with 1 Axes>"
      ]
     },
     "metadata": {},
     "output_type": "display_data"
    }
   ],
   "source": [
    "plt.scatter(df['lot area'], df.Price)"
   ]
  },
  {
   "cell_type": "code",
   "execution_count": 193,
   "id": "279adae9",
   "metadata": {},
   "outputs": [
    {
     "data": {
      "text/plain": [
       "(9965, 23)"
      ]
     },
     "execution_count": 193,
     "metadata": {},
     "output_type": "execute_result"
    }
   ],
   "source": [
    "df0[df0['Renovation Year']==0].shape"
   ]
  },
  {
   "cell_type": "code",
   "execution_count": 195,
   "id": "a81846ab",
   "metadata": {},
   "outputs": [],
   "source": [
    "df1 = df[(df['Renovation Year'] == 0) & (df['waterfront present'] == 0) & (df['number of floors'] <=5) & (df['lot area'] <=10000) & (df['number of bathrooms'] <3)][['number of bedrooms','living area', 'Built Year', 'Price']]"
   ]
  },
  {
   "cell_type": "code",
   "execution_count": 196,
   "id": "1b0c76c1",
   "metadata": {},
   "outputs": [
    {
     "data": {
      "text/plain": [
       "(8953, 4)"
      ]
     },
     "execution_count": 196,
     "metadata": {},
     "output_type": "execute_result"
    }
   ],
   "source": [
    "df1.shape"
   ]
  },
  {
   "cell_type": "code",
   "execution_count": 197,
   "id": "c92016f8",
   "metadata": {},
   "outputs": [],
   "source": [
    "df1['Old'] = 2024 - df1[['Built Year']]"
   ]
  },
  {
   "cell_type": "code",
   "execution_count": 198,
   "id": "63eb5d5f",
   "metadata": {},
   "outputs": [
    {
     "data": {
      "text/html": [
       "<div>\n",
       "<style scoped>\n",
       "    .dataframe tbody tr th:only-of-type {\n",
       "        vertical-align: middle;\n",
       "    }\n",
       "\n",
       "    .dataframe tbody tr th {\n",
       "        vertical-align: top;\n",
       "    }\n",
       "\n",
       "    .dataframe thead th {\n",
       "        text-align: right;\n",
       "    }\n",
       "</style>\n",
       "<table border=\"1\" class=\"dataframe\">\n",
       "  <thead>\n",
       "    <tr style=\"text-align: right;\">\n",
       "      <th></th>\n",
       "      <th>number of bedrooms</th>\n",
       "      <th>living area</th>\n",
       "      <th>Built Year</th>\n",
       "      <th>Price</th>\n",
       "      <th>Old</th>\n",
       "    </tr>\n",
       "  </thead>\n",
       "  <tbody>\n",
       "    <tr>\n",
       "      <th>0</th>\n",
       "      <td>4</td>\n",
       "      <td>2920</td>\n",
       "      <td>1909</td>\n",
       "      <td>1400000</td>\n",
       "      <td>115</td>\n",
       "    </tr>\n",
       "    <tr>\n",
       "      <th>1</th>\n",
       "      <td>5</td>\n",
       "      <td>2910</td>\n",
       "      <td>1939</td>\n",
       "      <td>1200000</td>\n",
       "      <td>85</td>\n",
       "    </tr>\n",
       "    <tr>\n",
       "      <th>3</th>\n",
       "      <td>3</td>\n",
       "      <td>2710</td>\n",
       "      <td>1929</td>\n",
       "      <td>805000</td>\n",
       "      <td>95</td>\n",
       "    </tr>\n",
       "    <tr>\n",
       "      <th>4</th>\n",
       "      <td>3</td>\n",
       "      <td>2600</td>\n",
       "      <td>1951</td>\n",
       "      <td>790000</td>\n",
       "      <td>73</td>\n",
       "    </tr>\n",
       "    <tr>\n",
       "      <th>7</th>\n",
       "      <td>3</td>\n",
       "      <td>2390</td>\n",
       "      <td>1955</td>\n",
       "      <td>750000</td>\n",
       "      <td>69</td>\n",
       "    </tr>\n",
       "  </tbody>\n",
       "</table>\n",
       "</div>"
      ],
      "text/plain": [
       "   number of bedrooms  living area  Built Year    Price  Old\n",
       "0                   4         2920        1909  1400000  115\n",
       "1                   5         2910        1939  1200000   85\n",
       "3                   3         2710        1929   805000   95\n",
       "4                   3         2600        1951   790000   73\n",
       "7                   3         2390        1955   750000   69"
      ]
     },
     "execution_count": 198,
     "metadata": {},
     "output_type": "execute_result"
    }
   ],
   "source": [
    "df1.head()"
   ]
  },
  {
   "cell_type": "code",
   "execution_count": 199,
   "id": "9fad2c2a",
   "metadata": {},
   "outputs": [
    {
     "data": {
      "text/plain": [
       "(8953, 5)"
      ]
     },
     "execution_count": 199,
     "metadata": {},
     "output_type": "execute_result"
    }
   ],
   "source": [
    "df1.shape"
   ]
  },
  {
   "cell_type": "code",
   "execution_count": 200,
   "id": "0e46f828",
   "metadata": {},
   "outputs": [],
   "source": [
    "df2 = df1[(df1['Old'] <= 80) & (df1['number of bedrooms'] <= 8)][['number of bedrooms', 'living area', 'Old', 'Price']]"
   ]
  },
  {
   "cell_type": "code",
   "execution_count": 201,
   "id": "6e40e430",
   "metadata": {},
   "outputs": [
    {
     "data": {
      "text/plain": [
       "(7048, 4)"
      ]
     },
     "execution_count": 201,
     "metadata": {},
     "output_type": "execute_result"
    }
   ],
   "source": [
    "df2.shape"
   ]
  },
  {
   "cell_type": "code",
   "execution_count": 202,
   "id": "0f8d4dc7",
   "metadata": {},
   "outputs": [
    {
     "data": {
      "text/html": [
       "<div>\n",
       "<style scoped>\n",
       "    .dataframe tbody tr th:only-of-type {\n",
       "        vertical-align: middle;\n",
       "    }\n",
       "\n",
       "    .dataframe tbody tr th {\n",
       "        vertical-align: top;\n",
       "    }\n",
       "\n",
       "    .dataframe thead th {\n",
       "        text-align: right;\n",
       "    }\n",
       "</style>\n",
       "<table border=\"1\" class=\"dataframe\">\n",
       "  <thead>\n",
       "    <tr style=\"text-align: right;\">\n",
       "      <th></th>\n",
       "      <th>number of bedrooms</th>\n",
       "      <th>living area</th>\n",
       "      <th>Old</th>\n",
       "      <th>Price</th>\n",
       "    </tr>\n",
       "  </thead>\n",
       "  <tbody>\n",
       "    <tr>\n",
       "      <th>4</th>\n",
       "      <td>3</td>\n",
       "      <td>2600</td>\n",
       "      <td>73</td>\n",
       "      <td>790000</td>\n",
       "    </tr>\n",
       "    <tr>\n",
       "      <th>7</th>\n",
       "      <td>3</td>\n",
       "      <td>2390</td>\n",
       "      <td>69</td>\n",
       "      <td>750000</td>\n",
       "    </tr>\n",
       "    <tr>\n",
       "      <th>10</th>\n",
       "      <td>4</td>\n",
       "      <td>1820</td>\n",
       "      <td>79</td>\n",
       "      <td>650000</td>\n",
       "    </tr>\n",
       "    <tr>\n",
       "      <th>11</th>\n",
       "      <td>4</td>\n",
       "      <td>1520</td>\n",
       "      <td>79</td>\n",
       "      <td>640000</td>\n",
       "    </tr>\n",
       "    <tr>\n",
       "      <th>13</th>\n",
       "      <td>3</td>\n",
       "      <td>1750</td>\n",
       "      <td>19</td>\n",
       "      <td>626000</td>\n",
       "    </tr>\n",
       "  </tbody>\n",
       "</table>\n",
       "</div>"
      ],
      "text/plain": [
       "    number of bedrooms  living area  Old   Price\n",
       "4                    3         2600   73  790000\n",
       "7                    3         2390   69  750000\n",
       "10                   4         1820   79  650000\n",
       "11                   4         1520   79  640000\n",
       "13                   3         1750   19  626000"
      ]
     },
     "execution_count": 202,
     "metadata": {},
     "output_type": "execute_result"
    }
   ],
   "source": [
    "df2.head()"
   ]
  },
  {
   "cell_type": "markdown",
   "id": "9df03f29",
   "metadata": {},
   "source": [
    "##### Checking for null values in the colums "
   ]
  },
  {
   "cell_type": "code",
   "execution_count": 203,
   "id": "6263d1bb",
   "metadata": {},
   "outputs": [
    {
     "data": {
      "text/plain": [
       "0"
      ]
     },
     "execution_count": 203,
     "metadata": {},
     "output_type": "execute_result"
    }
   ],
   "source": [
    "df2['number of bedrooms'].isna().sum()"
   ]
  },
  {
   "cell_type": "markdown",
   "id": "baaca19f",
   "metadata": {},
   "source": [
    "#### Plots to check for the dependence of Independent variables on Price"
   ]
  },
  {
   "cell_type": "code",
   "execution_count": 204,
   "id": "51703e67",
   "metadata": {},
   "outputs": [
    {
     "data": {
      "image/png": "[encoded data removed]",
      "text/plain": [
       "<Figure size 640x480 with 1 Axes>"
      ]
     },
     "metadata": {},
     "output_type": "display_data"
    },
    {
     "data": {
      "image/png": "[encoded data removed]",
      "text/plain": [
       "<Figure size 640x480 with 1 Axes>"
      ]
     },
     "metadata": {},
     "output_type": "display_data"
    },
    {
     "data": {
      "image/png": "[encoded data removed]",
      "text/plain": [
       "<Figure size 640x480 with 1 Axes>"
      ]
     },
     "metadata": {},
     "output_type": "display_data"
    }
   ],
   "source": [
    "plt.scatter(df2['number of bedrooms'], df2['Price'])\n",
    "plt.show()\n",
    "plt.scatter(df2['living area'], df2['Price'])\n",
    "plt.show()\n",
    "plt.scatter(df2['Old'], df2['Price'])\n",
    "plt.show()"
   ]
  },
  {
   "cell_type": "markdown",
   "id": "b666c405",
   "metadata": {},
   "source": [
    "#### Train Test Split "
   ]
  },
  {
   "cell_type": "code",
   "execution_count": 205,
   "id": "f22c3e71",
   "metadata": {},
   "outputs": [],
   "source": [
    "from sklearn.model_selection import train_test_split"
   ]
  },
  {
   "cell_type": "code",
   "execution_count": 206,
   "id": "940593f5",
   "metadata": {},
   "outputs": [],
   "source": [
    "X = df2[['number of bedrooms', 'living area', 'Old']]\n",
    "y = df2.Price\n",
    "\n",
    "X_train, X_test, y_train, y_test = train_test_split(X, y, test_size = 0.2, random_state = 18)\n"
   ]
  },
  {
   "cell_type": "markdown",
   "id": "1a053a81",
   "metadata": {},
   "source": [
    "#### Linear Reg with Multiple Variables "
   ]
  },
  {
   "cell_type": "code",
   "execution_count": 207,
   "id": "37b03367",
   "metadata": {},
   "outputs": [
    {
     "data": {
      "text/html": [
       "<style>#sk-container-id-5 {color: black;background-color: white;}#sk-container-id-5 pre{padding: 0;}#sk-container-id-5 div.sk-toggleable {background-color: white;}#sk-container-id-5 label.sk-toggleable__label {cursor: pointer;display: block;width: 100%;margin-bottom: 0;padding: 0.3em;box-sizing: border-box;text-align: center;}#sk-container-id-5 label.sk-toggleable__label-arrow:before {content: \"▸\";float: left;margin-right: 0.25em;color: #696969;}#sk-container-id-5 label.sk-toggleable__label-arrow:hover:before {color: black;}#sk-container-id-5 div.sk-estimator:hover label.sk-toggleable__label-arrow:before {color: black;}#sk-container-id-5 div.sk-toggleable__content {max-height: 0;max-width: 0;overflow: hidden;text-align: left;background-color: #f0f8ff;}#sk-container-id-5 div.sk-toggleable__content pre {margin: 0.2em;color: black;border-radius: 0.25em;background-color: #f0f8ff;}#sk-container-id-5 input.sk-toggleable__control:checked~div.sk-toggleable__content {max-height: 200px;max-width: 100%;overflow: auto;}#sk-container-id-5 input.sk-toggleable__control:checked~label.sk-toggleable__label-arrow:before {content: \"▾\";}#sk-container-id-5 div.sk-estimator input.sk-toggleable__control:checked~label.sk-toggleable__label {background-color: #d4ebff;}#sk-container-id-5 div.sk-label input.sk-toggleable__control:checked~label.sk-toggleable__label {background-color: #d4ebff;}#sk-container-id-5 input.sk-hidden--visually {border: 0;clip: rect(1px 1px 1px 1px);clip: rect(1px, 1px, 1px, 1px);height: 1px;margin: -1px;overflow: hidden;padding: 0;position: absolute;width: 1px;}#sk-container-id-5 div.sk-estimator {font-family: monospace;background-color: #f0f8ff;border: 1px dotted black;border-radius: 0.25em;box-sizing: border-box;margin-bottom: 0.5em;}#sk-container-id-5 div.sk-estimator:hover {background-color: #d4ebff;}#sk-container-id-5 div.sk-parallel-item::after {content: \"\";width: 100%;border-bottom: 1px solid gray;flex-grow: 1;}#sk-container-id-5 div.sk-label:hover label.sk-toggleable__label {background-color: #d4ebff;}#sk-container-id-5 div.sk-serial::before {content: \"\";position: absolute;border-left: 1px solid gray;box-sizing: border-box;top: 0;bottom: 0;left: 50%;z-index: 0;}#sk-container-id-5 div.sk-serial {display: flex;flex-direction: column;align-items: center;background-color: white;padding-right: 0.2em;padding-left: 0.2em;position: relative;}#sk-container-id-5 div.sk-item {position: relative;z-index: 1;}#sk-container-id-5 div.sk-parallel {display: flex;align-items: stretch;justify-content: center;background-color: white;position: relative;}#sk-container-id-5 div.sk-item::before, #sk-container-id-5 div.sk-parallel-item::before {content: \"\";position: absolute;border-left: 1px solid gray;box-sizing: border-box;top: 0;bottom: 0;left: 50%;z-index: -1;}#sk-container-id-5 div.sk-parallel-item {display: flex;flex-direction: column;z-index: 1;position: relative;background-color: white;}#sk-container-id-5 div.sk-parallel-item:first-child::after {align-self: flex-end;width: 50%;}#sk-container-id-5 div.sk-parallel-item:last-child::after {align-self: flex-start;width: 50%;}#sk-container-id-5 div.sk-parallel-item:only-child::after {width: 0;}#sk-container-id-5 div.sk-dashed-wrapped {border: 1px dashed gray;margin: 0 0.4em 0.5em 0.4em;box-sizing: border-box;padding-bottom: 0.4em;background-color: white;}#sk-container-id-5 div.sk-label label {font-family: monospace;font-weight: bold;display: inline-block;line-height: 1.2em;}#sk-container-id-5 div.sk-label-container {text-align: center;}#sk-container-id-5 div.sk-container {/* jupyter's `normalize.less` sets `[hidden] { display: none; }` but bootstrap.min.css set `[hidden] { display: none !important; }` so we also need the `!important` here to be able to override the default hidden behavior on the sphinx rendered scikit-learn.org. See: https://github.com/scikit-learn/scikit-learn/issues/21755 */display: inline-block !important;position: relative;}#sk-container-id-5 div.sk-text-repr-fallback {display: none;}</style><div id=\"sk-container-id-5\" class=\"sk-top-container\"><div class=\"sk-text-repr-fallback\"><pre>LinearRegression()</pre><b>In a Jupyter environment, please rerun this cell to show the HTML representation or trust the notebook. <br />On GitHub, the HTML representation is unable to render, please try loading this page with nbviewer.org.</b></div><div class=\"sk-container\" hidden><div class=\"sk-item\"><div class=\"sk-estimator sk-toggleable\"><input class=\"sk-toggleable__control sk-hidden--visually\" id=\"sk-estimator-id-5\" type=\"checkbox\" checked><label for=\"sk-estimator-id-5\" class=\"sk-toggleable__label sk-toggleable__label-arrow\">LinearRegression</label><div class=\"sk-toggleable__content\"><pre>LinearRegression()</pre></div></div></div></div></div>"
      ],
      "text/plain": [
       "LinearRegression()"
      ]
     },
     "execution_count": 207,
     "metadata": {},
     "output_type": "execute_result"
    }
   ],
   "source": [
    "model = linear_model.LinearRegression()\n",
    "model.fit(X_train, y_train)"
   ]
  },
  {
   "cell_type": "code",
   "execution_count": 208,
   "id": "9271560a",
   "metadata": {},
   "outputs": [
    {
     "data": {
      "text/plain": [
       "array([-52980.14802655,    221.41798276,    720.28103221])"
      ]
     },
     "execution_count": 208,
     "metadata": {},
     "output_type": "execute_result"
    }
   ],
   "source": [
    "model.coef_"
   ]
  },
  {
   "cell_type": "code",
   "execution_count": 209,
   "id": "e344994a",
   "metadata": {},
   "outputs": [
    {
     "data": {
      "text/plain": [
       "161210.9234578372"
      ]
     },
     "execution_count": 209,
     "metadata": {},
     "output_type": "execute_result"
    }
   ],
   "source": [
    "model.intercept_"
   ]
  },
  {
   "cell_type": "code",
   "execution_count": 210,
   "id": "72ab4cf6",
   "metadata": {},
   "outputs": [],
   "source": [
    "y_pred = model.predict(X_test)"
   ]
  },
  {
   "cell_type": "code",
   "execution_count": 211,
   "id": "25801821",
   "metadata": {},
   "outputs": [],
   "source": [
    "df3= X_test[['number of bedrooms', 'living area', 'Old']] "
   ]
  },
  {
   "cell_type": "code",
   "execution_count": 212,
   "id": "f75d50a4",
   "metadata": {},
   "outputs": [],
   "source": [
    "df3['y_test'] = y_test"
   ]
  },
  {
   "cell_type": "code",
   "execution_count": 213,
   "id": "9c08dd32",
   "metadata": {},
   "outputs": [],
   "source": [
    "df3['y_pred']=y_pred"
   ]
  },
  {
   "cell_type": "code",
   "execution_count": 214,
   "id": "34326af3",
   "metadata": {},
   "outputs": [
    {
     "data": {
      "text/html": [
       "<div>\n",
       "<style scoped>\n",
       "    .dataframe tbody tr th:only-of-type {\n",
       "        vertical-align: middle;\n",
       "    }\n",
       "\n",
       "    .dataframe tbody tr th {\n",
       "        vertical-align: top;\n",
       "    }\n",
       "\n",
       "    .dataframe thead th {\n",
       "        text-align: right;\n",
       "    }\n",
       "</style>\n",
       "<table border=\"1\" class=\"dataframe\">\n",
       "  <thead>\n",
       "    <tr style=\"text-align: right;\">\n",
       "      <th></th>\n",
       "      <th>number of bedrooms</th>\n",
       "      <th>living area</th>\n",
       "      <th>Old</th>\n",
       "      <th>y_test</th>\n",
       "      <th>y_pred</th>\n",
       "    </tr>\n",
       "  </thead>\n",
       "  <tbody>\n",
       "    <tr>\n",
       "      <th>1084</th>\n",
       "      <td>3</td>\n",
       "      <td>1480</td>\n",
       "      <td>59</td>\n",
       "      <td>320000</td>\n",
       "      <td>372465.674761</td>\n",
       "    </tr>\n",
       "    <tr>\n",
       "      <th>10797</th>\n",
       "      <td>4</td>\n",
       "      <td>2260</td>\n",
       "      <td>10</td>\n",
       "      <td>359950</td>\n",
       "      <td>456897.782708</td>\n",
       "    </tr>\n",
       "    <tr>\n",
       "      <th>10966</th>\n",
       "      <td>4</td>\n",
       "      <td>2360</td>\n",
       "      <td>69</td>\n",
       "      <td>385000</td>\n",
       "      <td>521536.161884</td>\n",
       "    </tr>\n",
       "    <tr>\n",
       "      <th>14199</th>\n",
       "      <td>3</td>\n",
       "      <td>1660</td>\n",
       "      <td>21</td>\n",
       "      <td>279000</td>\n",
       "      <td>384950.232434</td>\n",
       "    </tr>\n",
       "    <tr>\n",
       "      <th>8749</th>\n",
       "      <td>3</td>\n",
       "      <td>1960</td>\n",
       "      <td>21</td>\n",
       "      <td>425000</td>\n",
       "      <td>451375.627261</td>\n",
       "    </tr>\n",
       "    <tr>\n",
       "      <th>...</th>\n",
       "      <td>...</td>\n",
       "      <td>...</td>\n",
       "      <td>...</td>\n",
       "      <td>...</td>\n",
       "      <td>...</td>\n",
       "    </tr>\n",
       "    <tr>\n",
       "      <th>1662</th>\n",
       "      <td>2</td>\n",
       "      <td>1260</td>\n",
       "      <td>73</td>\n",
       "      <td>436500</td>\n",
       "      <td>386817.801032</td>\n",
       "    </tr>\n",
       "    <tr>\n",
       "      <th>8688</th>\n",
       "      <td>3</td>\n",
       "      <td>1050</td>\n",
       "      <td>56</td>\n",
       "      <td>199000</td>\n",
       "      <td>275095.099078</td>\n",
       "    </tr>\n",
       "    <tr>\n",
       "      <th>14500</th>\n",
       "      <td>3</td>\n",
       "      <td>1260</td>\n",
       "      <td>75</td>\n",
       "      <td>445000</td>\n",
       "      <td>335278.215070</td>\n",
       "    </tr>\n",
       "    <tr>\n",
       "      <th>4746</th>\n",
       "      <td>3</td>\n",
       "      <td>1420</td>\n",
       "      <td>62</td>\n",
       "      <td>235000</td>\n",
       "      <td>361341.438892</td>\n",
       "    </tr>\n",
       "    <tr>\n",
       "      <th>13328</th>\n",
       "      <td>3</td>\n",
       "      <td>1040</td>\n",
       "      <td>73</td>\n",
       "      <td>258000</td>\n",
       "      <td>285125.696798</td>\n",
       "    </tr>\n",
       "  </tbody>\n",
       "</table>\n",
       "<p>1410 rows × 5 columns</p>\n",
       "</div>"
      ],
      "text/plain": [
       "       number of bedrooms  living area  Old  y_test         y_pred\n",
       "1084                    3         1480   59  320000  372465.674761\n",
       "10797                   4         2260   10  359950  456897.782708\n",
       "10966                   4         2360   69  385000  521536.161884\n",
       "14199                   3         1660   21  279000  384950.232434\n",
       "8749                    3         1960   21  425000  451375.627261\n",
       "...                   ...          ...  ...     ...            ...\n",
       "1662                    2         1260   73  436500  386817.801032\n",
       "8688                    3         1050   56  199000  275095.099078\n",
       "14500                   3         1260   75  445000  335278.215070\n",
       "4746                    3         1420   62  235000  361341.438892\n",
       "13328                   3         1040   73  258000  285125.696798\n",
       "\n",
       "[1410 rows x 5 columns]"
      ]
     },
     "execution_count": 214,
     "metadata": {},
     "output_type": "execute_result"
    }
   ],
   "source": [
    "df3"
   ]
  },
  {
   "cell_type": "code",
   "execution_count": null,
   "id": "1102dada",
   "metadata": {},
   "outputs": [],
   "source": []
  }
 ],
 "metadata": {
  "kernelspec": {
   "display_name": "Python 3 (ipykernel)",
   "language": "python",
   "name": "python3"
  },
  "language_info": {
   "codemirror_mode": {
    "name": "ipython",
    "version": 3
   },
   "file_extension": ".py",
   "mimetype": "text/x-python",
   "name": "python",
   "nbconvert_exporter": "python",
   "pygments_lexer": "ipython3",
   "version": "3.10.9"
  }
 },
 "nbformat": 4,
 "nbformat_minor": 5
}
